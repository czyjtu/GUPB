{
 "cells": [
  {
   "cell_type": "code",
   "execution_count": 1,
   "metadata": {},
   "outputs": [],
   "source": [
    "import os\n",
    "import json\n",
    "import jax\n",
    "import jax.numpy as jnp\n",
    "import numpy as np\n",
    "import matplotlib.pyplot as plt\n",
    "import gymnasium as gym\n",
    "from reinforced_lib import RLib\n",
    "from reinforced_lib.exts import BaseExt, observation, parameter\n",
    "from reinforced_lib.agents.mab import UCB, EGreedy, Softmax\n",
    "from tqdm import tqdm\n",
    "from chex import PRNGKey, Array\n",
    "from typing import Dict, List\n",
    "\n",
    "from gupb.controller import r2d2\n",
    "from gupb.__main__ import load_initial_config, configure_logging\n",
    "from gupb import runner\n",
    "\n",
    "MAB_CONFIG_PATH = 'gupb/mab_config.py'\n",
    "RESULTS_PATH = 'results'\n",
    "ARENAS_PATH = 'resources/arenas'\n",
    "SAVE_PATH = 'mab-results.json'\n",
    "\n",
    "BASE_WEAPON_RANKING = {\n",
    "    'potion': 0, # 'potion' is not a weapon, but it is the most important item\n",
    "    'axe': 2,\n",
    "    'sword': 3,\n",
    "    'amulet': 4,\n",
    "    'knife': 5,\n",
    "    'bow': 6,\n",
    "    'bow_loaded': 6,\n",
    "    'bow_unloaded': 6\n",
    "}\n",
    "\n",
    "ACTION_NAMES = {\n",
    "    0: \"axe\",\n",
    "    1: \"sword\",\n",
    "    2: \"amulet\",\n",
    "    3: \"knife\",\n",
    "    4: \"bow\"\n",
    "}\n",
    "\n",
    "key = jax.random.PRNGKey(420)"
   ]
  },
  {
   "cell_type": "code",
   "execution_count": 2,
   "metadata": {},
   "outputs": [],
   "source": [
    "def scatter_actions(results_dict: Dict, agents: List = None):\n",
    "    _, ax = plt.subplots(1, 1, figsize=(10, 4))\n",
    "\n",
    "    for agent_name, result in results_dict.items():\n",
    "        if agents is not None and agent_name not in agents:\n",
    "            continue\n",
    "        actions = list(map(lambda a: int(a), result['actions']))\n",
    "        ax.scatter(range(len(actions)), actions, label=agent_name, s=1, alpha=0.75)\n",
    "    \n",
    "    ax.set_yticks(range(5), list(ACTION_NAMES.values()))\n",
    "    ax.set_ylabel('Weapon')\n",
    "    ax.set_xlabel('Steps')\n",
    "    ax.set_title('Actions')\n",
    "    ax.legend()\n",
    "    plt.show()"
   ]
  },
  {
   "cell_type": "code",
   "execution_count": 3,
   "metadata": {},
   "outputs": [],
   "source": [
    "def scatter_rewards(results_dict: Dict, smooth: int = 1, agents: List = None):\n",
    "    _, ax = plt.subplots(1, 1, figsize=(10, 4))\n",
    "\n",
    "    for agent_name, result in results_dict.items():\n",
    "        if agents is not None and agent_name not in agents:\n",
    "            continue\n",
    "        rewards_smooth = jnp.convolve(jnp.array(result['rewards']), jnp.ones(smooth)/smooth, mode='valid')\n",
    "        ax.scatter(range(len(rewards_smooth)), rewards_smooth, label=agent_name, s=1, alpha=0.75)\n",
    "    \n",
    "    if smooth == 1:\n",
    "        ax.set_yticks(jnp.unique(jnp.array(result['rewards'])))\n",
    "    ax.set_ylabel('Reward')\n",
    "    ax.set_xlabel('Steps')\n",
    "    ax.set_title('Rewards')\n",
    "    ax.legend()\n",
    "    plt.show()"
   ]
  },
  {
   "cell_type": "markdown",
   "metadata": {},
   "source": [
    "## GUPB environment"
   ]
  },
  {
   "cell_type": "code",
   "execution_count": 4,
   "metadata": {},
   "outputs": [],
   "source": [
    "configure_logging(RESULTS_PATH)\n",
    "base_config = load_initial_config(MAB_CONFIG_PATH)\n",
    "enymies_controllers = base_config[\"controllers\"]"
   ]
  },
  {
   "cell_type": "code",
   "execution_count": 5,
   "metadata": {},
   "outputs": [],
   "source": [
    "def sample_arenas(key: PRNGKey, n_arenas: int = 1) -> List[str]:\n",
    "\n",
    "    arenas = os.listdir(ARENAS_PATH)\n",
    "    arenas = list(filter(lambda a: a.startswith('generated_'), arenas))\n",
    "    sample_idices = jax.random.choice(key, jnp.arange(len(arenas)), (min(n_arenas, len(arenas)),), replace=False)\n",
    "    \n",
    "    return [arenas[i].split('.')[0] for i in sample_idices]\n",
    "\n",
    "def sample_arena(key: PRNGKey, arenas: List[str]) -> str:\n",
    "    sample_idices = jax.random.choice(key, jnp.arange(len(arenas)), (1,))\n",
    "    return [arenas[sample_idices[0]]]"
   ]
  },
  {
   "cell_type": "code",
   "execution_count": 6,
   "metadata": {},
   "outputs": [],
   "source": [
    "def get_new_ranking(action: int):\n",
    "    ranking = BASE_WEAPON_RANKING.copy()\n",
    "    \n",
    "    if action == 0:\n",
    "        ranking['axe'] = 1\n",
    "    elif action == 1:\n",
    "        ranking['sword'] = 1\n",
    "    elif action == 2:\n",
    "        ranking['amulet'] = 1\n",
    "    elif action == 3:\n",
    "        ranking['knife'] = 1\n",
    "    elif action == 4:\n",
    "        ranking['bow'] = 1\n",
    "        ranking['bow_loaded'] = 1\n",
    "        ranking['bow_unloaded'] = 1\n",
    "    else:\n",
    "        raise ValueError('Action out of range')\n",
    "    \n",
    "    return ranking"
   ]
  },
  {
   "cell_type": "code",
   "execution_count": 7,
   "metadata": {},
   "outputs": [],
   "source": [
    "def r2d2_score(action: int, base_config: Dict, arena: List[str]):\n",
    "\n",
    "    new_ranking = get_new_ranking(action)\n",
    "\n",
    "    # Redefine config with new R2D2 decay\n",
    "    config = base_config.copy()\n",
    "    config[\"controllers\"] = [r2d2.RecklessRoamingDancingDruid(\"R2D2\", new_ranking)] + enymies_controllers\n",
    "    config[\"arenas\"] = arena\n",
    "\n",
    "    # Run the game\n",
    "    game_runner = runner.Runner(config)\n",
    "    game_runner.run()\n",
    "\n",
    "    # Return the score as reward\n",
    "    r2d2_reward = game_runner.scores[\"RecklessRoamingDancingDruid_R2D2\"]\n",
    "    return r2d2_reward"
   ]
  },
  {
   "cell_type": "code",
   "execution_count": 8,
   "metadata": {},
   "outputs": [
    {
     "data": {
      "text/plain": [
       "17"
      ]
     },
     "execution_count": 8,
     "metadata": {},
     "output_type": "execute_result"
    }
   ],
   "source": [
    "r2d2_score(0, base_config, [\"generated_0\"])"
   ]
  },
  {
   "cell_type": "markdown",
   "metadata": {},
   "source": [
    "## Multi Armed Bandidts"
   ]
  },
  {
   "cell_type": "markdown",
   "metadata": {},
   "source": [
    "### Problem definition"
   ]
  },
  {
   "cell_type": "code",
   "execution_count": 9,
   "metadata": {},
   "outputs": [],
   "source": [
    "class GUPBExt(BaseExt):\n",
    "    \"\"\"\n",
    "    Reinforced-lib extension for tunnig R2D2s parameters in GUPB.\n",
    "    This extension can be used with Multi-Armed Bandit (MAB) algorithms.\n",
    "    \"\"\"\n",
    "\n",
    "    def __init__(self, n_arms: int) -> None:\n",
    "        super().__init__()\n",
    "        self.n = n_arms\n",
    "\n",
    "    observation_space = gym.spaces.Dict({})\n",
    "\n",
    "    @parameter(parameter_type=gym.spaces.Box(1, np.inf, (1,), np.int32))\n",
    "    def n_arms(self) -> int:\n",
    "        return self.n\n",
    "\n",
    "    @observation(observation_type=gym.spaces.Box(-np.inf, np.inf, (1,)))\n",
    "    def reward(self, reward, *args, **kwargs) -> float:\n",
    "        return reward"
   ]
  },
  {
   "cell_type": "code",
   "execution_count": 10,
   "metadata": {},
   "outputs": [],
   "source": [
    "agents = {\n",
    "    'EGreedy': RLib(\n",
    "        agent_type=EGreedy,\n",
    "        agent_params={'e': 0.166, 'optimistic_start': 2000.},\n",
    "        ext_type=GUPBExt,\n",
    "        ext_params={'n_arms': 5}\n",
    "    ),\n",
    "    'Softmax': RLib(\n",
    "        agent_type=Softmax,\n",
    "        agent_params={'lr': 1., 'tau': 25., 'multiplier': 0.01},\n",
    "        ext_type=GUPBExt,\n",
    "        ext_params={'n_arms': 5}\n",
    "    ),\n",
    "    'UCB': RLib(\n",
    "        agent_type=UCB,\n",
    "        agent_params={'c': 100},\n",
    "        ext_type=GUPBExt,\n",
    "        ext_params={'n_arms': 5}\n",
    "    )\n",
    "}"
   ]
  },
  {
   "cell_type": "markdown",
   "metadata": {},
   "source": [
    "### Training loop"
   ]
  },
  {
   "cell_type": "code",
   "execution_count": 11,
   "metadata": {},
   "outputs": [],
   "source": [
    "def run_agent(key: PRNGKey, agent: RLib, n_steps: int, arenas: List[str], agent_name: str):\n",
    "\n",
    "    key, key_arena = jax.random.split(key)\n",
    "    \n",
    "    # Perform first action and get first reward\n",
    "    act_acc = [0]\n",
    "    reward_acc = [r2d2_score(act_acc[0], base_config, sample_arena(key_arena, arenas))]\n",
    "\n",
    "    # Sample actions and rewards for n_steps\n",
    "    for _ in tqdm(range(n_steps), desc=f\"{agent_name} agent\"):\n",
    "        key, key_arena = jax.random.split(key)\n",
    "\n",
    "        # Sample action from mab agent\n",
    "        act = agent.sample(reward_acc[-1])\n",
    "\n",
    "        # Get reward for action\n",
    "        reward = r2d2_score(act, base_config, sample_arena(key_arena, arenas))\n",
    "\n",
    "        # Accumulate action-reward pair\n",
    "        act_acc.append(int(act))\n",
    "        reward_acc.append(reward)\n",
    "    \n",
    "    return act_acc, reward_acc"
   ]
  },
  {
   "cell_type": "code",
   "execution_count": 12,
   "metadata": {},
   "outputs": [
    {
     "name": "stderr",
     "output_type": "stream",
     "text": [
      "EGreedy agent: 100%|██████████| 5/5 [00:17<00:00,  3.58s/it]\n",
      "Softmax agent: 100%|██████████| 5/5 [00:13<00:00,  2.61s/it]\n",
      "UCB agent: 100%|██████████| 5/5 [00:19<00:00,  3.94s/it]\n"
     ]
    }
   ],
   "source": [
    "# Prepare arenas and results accumulator\n",
    "key, key_arenas = jax.random.split(key)\n",
    "arenas = sample_arenas(key_arenas, n_arenas=50)\n",
    "results_dict = {}\n",
    "\n",
    "# Train each agent for n_steps\n",
    "n_steps = 2200\n",
    "for agent_name, agent in agents.items():\n",
    "    act_acc, reward_acc = run_agent(key, agent, n_steps, arenas, agent_name)\n",
    "    results_dict[agent_name] = {\n",
    "        \"actions\": act_acc,\n",
    "        \"rewards\": reward_acc\n",
    "    }\n",
    "\n",
    "    # Checkpoint results\n",
    "    with open(SAVE_PATH, 'w') as fp:\n",
    "        json.dump(results_dict, fp)"
   ]
  },
  {
   "cell_type": "markdown",
   "metadata": {},
   "source": [
    "### Evaluation"
   ]
  },
  {
   "cell_type": "code",
   "execution_count": 13,
   "metadata": {},
   "outputs": [],
   "source": [
    "AGENTS_TO_PLOT = [\"EGreedy\", \"Softmax\", \"UCB\"]"
   ]
  },
  {
   "cell_type": "code",
   "execution_count": 20,
   "metadata": {},
   "outputs": [],
   "source": [
    "results_loaded = json.load(open(\"/Users/wciezobka/agh/SemestrIX/uczenie-maszynowe/GUPB/mab-results.json\", 'r'))"
   ]
  },
  {
   "cell_type": "code",
   "execution_count": 23,
   "metadata": {},
   "outputs": [
    {
     "data": {
      "text/plain": [
       "{'EGreedy': {'actions': [0, 0, 1, 2, 0, 3], 'rewards': [5, 41, 30, 7, 23, 30]},\n",
       " 'Softmax': {'actions': [0, 4, 3, 4, 3, 3],\n",
       "  'rewards': [23, 41, 4, 17, 41, 23]},\n",
       " 'UCB': {'actions': [0, 0, 1, 2, 3, 4], 'rewards': [41, 41, 12, 41, 12, 41]}}"
      ]
     },
     "execution_count": 23,
     "metadata": {},
     "output_type": "execute_result"
    }
   ],
   "source": [
    "results_loaded"
   ]
  },
  {
   "cell_type": "code",
   "execution_count": 24,
   "metadata": {},
   "outputs": [
    {
     "data": {
      "image/png": "[encoded data removed]",
      "text/plain": [
       "<Figure size 1000x400 with 1 Axes>"
      ]
     },
     "metadata": {},
     "output_type": "display_data"
    }
   ],
   "source": [
    "scatter_rewards(results_loaded, smooth=1, agents=AGENTS_TO_PLOT)"
   ]
  },
  {
   "cell_type": "code",
   "execution_count": 22,
   "metadata": {},
   "outputs": [
    {
     "data": {
      "image/png": "[encoded data removed]",
      "text/plain": [
       "<Figure size 1000x400 with 1 Axes>"
      ]
     },
     "metadata": {},
     "output_type": "display_data"
    }
   ],
   "source": [
    "scatter_actions(results_loaded, AGENTS_TO_PLOT)"
   ]
  },
  {
   "cell_type": "code",
   "execution_count": null,
   "metadata": {},
   "outputs": [],
   "source": []
  }
 ],
 "metadata": {
  "kernelspec": {
   "display_name": "gupb-py311",
   "language": "python",
   "name": "python3"
  },
  "language_info": {
   "codemirror_mode": {
    "name": "ipython",
    "version": 3
   },
   "file_extension": ".py",
   "mimetype": "text/x-python",
   "name": "python",
   "nbconvert_exporter": "python",
   "pygments_lexer": "ipython3",
   "version": "3.11.5"
  }
 },
 "nbformat": 4,
 "nbformat_minor": 2
}
